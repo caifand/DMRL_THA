{
 "cells": [
  {
   "cell_type": "markdown",
   "metadata": {
    "colab_type": "text",
    "id": "53WfC02xjoIL"
   },
   "source": [
    "##Dataset 1: a dataset of open access journals\n",
    "\n",
    "This dataset is downloaded from the Directory of Open Access Journals. It contains 57 fields of comprehensive metadata information about 12,642 open access (OA) journals from 128 countries. The metadata information of OA journals includes their title, URL, unique identifier like ISSN/EISSN, publisher, society or institution, as well as detailed information like download statistics, review process information, licensing and copyright information, etc. The data is stored in csv file format without any codebook available. But the dataset itself is quite straightforward. Please see a compiled sample below:\n",
    "\n"
   ]
  },
  {
   "cell_type": "code",
   "execution_count": null,
   "metadata": {
    "colab": {
     "base_uri": "https://localhost:8080/",
     "height": 6743
    },
    "colab_type": "code",
    "id": "V89Rw2-M_h2c",
    "outputId": "c03f13f9-3459-424f-ec20-cbf05543853c"
   },
   "outputs": [],
   "source": [
    "import pandas as pd\n",
    "\n",
    "print(\"A list of open access journals from the Directory of Open Access Journals\")\n",
    "doaj_feb2018 = pd.read_csv('https://raw.githubusercontent.com/caifand/DMRL_THA/master/doaj_20190215_2030_utf8.csv')\n",
    "print(doaj_feb2018.head(10))\n",
    "\n",
    "# Here I sample a subset of open access journals of which the publisher is located in U.S.\n",
    "print(\"Open access journals published in U.S.\")\n",
    "doaj_us = doaj_feb2018.loc[doaj_feb2018['Country of publisher'] == \"United States\"]\n",
    "print(doaj_us.head(10))\n",
    "\n"
   ]
  },
  {
   "cell_type": "markdown",
   "metadata": {
    "colab_type": "text",
    "id": "BQ8hJjDIngOv"
   },
   "source": [
    "##Dataset 2: A dataset about Open Access Repository Mandates and Policies\n",
    "\n",
    "This dataset is queried from The Registry of Open Access Repository Mandates and Policies (ROARMAP). It records open access mandates and policies adopted by universities, research institutions, and research funders that require or request their researchers to provide open access to their peer-reviewed research article output by depositing it in an open access repository. The data is stored in json file format. No codebook available. But the web query interface provides some information about the contained data fields."
   ]
  },
  {
   "cell_type": "code",
   "execution_count": null,
   "metadata": {
    "colab": {
     "base_uri": "https://localhost:8080/",
     "height": 1716
    },
    "colab_type": "code",
    "id": "IroD6Bo9hlGm",
    "outputId": "5c0a3129-aef3-438e-ac75-bfb7dcea1c58"
   },
   "outputs": [],
   "source": [
    "import pandas as pd\n",
    "\n",
    "print(\"A dataset about open access mandates and policy\")\n",
    "roadmap_2018 = pd.read_json('https://raw.githubusercontent.com/caifand/DMRL_THA/master/export_roarmap_JSON.json')\n",
    "print(roadmap_2018.head(10))"
   ]
  },
  {
   "cell_type": "markdown",
   "metadata": {
    "colab_type": "text",
    "id": "idmPdkZcw3qE"
   },
   "source": [
    "##Dataset 3: Journal ranking by impact factors\n",
    "\n",
    "This dataset is retrieved from Web of Science InCites Journal Citation Reports (2017) in csv format. It contains journal title, total cite count, journal impact factor, and an eigenfactor score. I filtered journal data from Computer Science and Information Science disciplines. No codebook available."
   ]
  },
  {
   "cell_type": "code",
   "execution_count": null,
   "metadata": {
    "colab": {
     "base_uri": "https://localhost:8080/",
     "height": 381
    },
    "colab_type": "code",
    "id": "fuEX7T1fw2jt",
    "outputId": "80d933bb-a13f-4fdf-b871-554f8bab1457"
   },
   "outputs": [],
   "source": [
    "import pandas as pd\n",
    "\n",
    "jrank_2017 = pd.read_csv('https://raw.githubusercontent.com/caifand/DMRL_THA/master/jrank.csv')\n",
    "print(jrank_2017.head(10))\n",
    "                    "
   ]
  }
 ],
 "metadata": {
  "colab": {
   "collapsed_sections": [],
   "name": "Copy of ducaifan_4200078_48503631_THA1_caifan_du-Copy1.ipynb",
   "provenance": [],
   "toc_visible": true,
   "version": "0.3.2"
  },
  "kernelspec": {
   "display_name": "Python 3",
   "language": "python",
   "name": "python3"
  }
 },
 "nbformat": 4,
 "nbformat_minor": 1
}
