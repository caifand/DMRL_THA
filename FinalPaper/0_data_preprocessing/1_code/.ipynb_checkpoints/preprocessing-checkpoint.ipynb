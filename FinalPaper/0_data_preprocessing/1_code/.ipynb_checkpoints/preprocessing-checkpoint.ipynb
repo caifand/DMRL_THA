{
 "cells": [
  {
   "cell_type": "code",
   "execution_count": null,
   "metadata": {
    "colab": {
     "base_uri": "https://localhost:8080/",
     "height": 1493
    },
    "colab_type": "code",
    "executionInfo": {
     "elapsed": 685,
     "status": "ok",
     "timestamp": 1557460904319,
     "user": {
      "displayName": "Caifan \"Fan\" Du",
      "photoUrl": "https://lh5.googleusercontent.com/-fC-x9gqsQj4/AAAAAAAAAAI/AAAAAAAAAG8/RAFUeuEg9G8/s64/photo.jpg",
      "userId": "13587742640348736796"
     },
     "user_tz": 300
    },
    "id": "PGtkPbPEmY9U",
    "outputId": "34c7870b-b9b2-47b8-ecff-39b02a5674c3"
   },
   "outputs": [],
   "source": [
    "import pandas as pd\n",
    "\n",
    "# 1.1 import first dataset: university rankings\n",
    "urank = pd.read_csv(\"https://raw.githubusercontent.com/caifand/DMRL_THA/master/FinalPaper/0_data_preprocessing/0_raw/cwur.csv\")\n",
    "\n",
    "# check the import\n",
    "print(urank.head(10))\n",
    "print(urank.tail(10))\n",
    "print(list(urank))\n",
    "print(urank.shape)"
   ]
  },
  {
   "cell_type": "code",
   "execution_count": null,
   "metadata": {
    "colab": {
     "base_uri": "https://localhost:8080/",
     "height": 225
    },
    "colab_type": "code",
    "executionInfo": {
     "elapsed": 967,
     "status": "ok",
     "timestamp": 1557460904636,
     "user": {
      "displayName": "Caifan \"Fan\" Du",
      "photoUrl": "https://lh5.googleusercontent.com/-fC-x9gqsQj4/AAAAAAAAAAI/AAAAAAAAAG8/RAFUeuEg9G8/s64/photo.jpg",
      "userId": "13587742640348736796"
     },
     "user_tz": 300
    },
    "id": "BF91wQDHrjjs",
    "outputId": "d80f3dc6-8ebb-4e31-fa44-2d26b20e0991"
   },
   "outputs": [],
   "source": [
    "# 1.2 drop needless columns\n",
    "cite_rank = urank[['Institution', 'Citations']]\n",
    "\n",
    "# rename columns\n",
    "cite_rank.rename(columns={'Institution':'institution',\n",
    "                    'Citations':'citation'}, \n",
    "                 inplace=True)\n",
    "\n",
    "print(cite_rank.shape)\n",
    "print(cite_rank.head(5))"
   ]
  },
  {
   "cell_type": "code",
   "execution_count": null,
   "metadata": {
    "colab": {
     "base_uri": "https://localhost:8080/",
     "height": 69
    },
    "colab_type": "code",
    "executionInfo": {
     "elapsed": 940,
     "status": "ok",
     "timestamp": 1557460904638,
     "user": {
      "displayName": "Caifan \"Fan\" Du",
      "photoUrl": "https://lh5.googleusercontent.com/-fC-x9gqsQj4/AAAAAAAAAAI/AAAAAAAAAG8/RAFUeuEg9G8/s64/photo.jpg",
      "userId": "13587742640348736796"
     },
     "user_tz": 300
    },
    "id": "AGgmyD2SsHJD",
    "outputId": "81be51e3-6fd5-4d1b-f434-81afbda55aba"
   },
   "outputs": [],
   "source": [
    "# 1.3 check null values and data types\n",
    "cite_rank.isna().sum()\n",
    "cite_rank.dtypes"
   ]
  },
  {
   "cell_type": "code",
   "execution_count": null,
   "metadata": {
    "colab": {},
    "colab_type": "code",
    "id": "VUAKhHzDtT9x"
   },
   "outputs": [],
   "source": [
    "# transform data types\n",
    "#cite_rank['Citations'] = cite_rank['Citations'].astype('int64')\n",
    "#cite_rank.dtypes\n",
    "\n",
    "# First I got error message: \"ValueError: invalid literal for int() with base 10: '> 1000'\"\n",
    "# This is because some observations have the value of citation indicators as \"> 1000\", which can not be converted to integer data type\n",
    "\n",
    "# normalize column values using replace method\n",
    "cite_rank = cite_rank.replace('> 1000', '1000')"
   ]
  },
  {
   "cell_type": "code",
   "execution_count": null,
   "metadata": {
    "colab": {
     "base_uri": "https://localhost:8080/",
     "height": 69
    },
    "colab_type": "code",
    "executionInfo": {
     "elapsed": 892,
     "status": "ok",
     "timestamp": 1557460904643,
     "user": {
      "displayName": "Caifan \"Fan\" Du",
      "photoUrl": "https://lh5.googleusercontent.com/-fC-x9gqsQj4/AAAAAAAAAAI/AAAAAAAAAG8/RAFUeuEg9G8/s64/photo.jpg",
      "userId": "13587742640348736796"
     },
     "user_tz": 300
    },
    "id": "pf2ah80jvbhc",
    "outputId": "2f14311c-7752-4734-b5aa-0445e68d1d57"
   },
   "outputs": [],
   "source": [
    "# trasform data type\n",
    "cite_rank['citation'] = cite_rank['citation'].astype('int64')\n",
    "cite_rank.dtypes"
   ]
  },
  {
   "cell_type": "code",
   "execution_count": null,
   "metadata": {
    "colab": {
     "base_uri": "https://localhost:8080/",
     "height": 1144
    },
    "colab_type": "code",
    "executionInfo": {
     "elapsed": 1223,
     "status": "ok",
     "timestamp": 1557460905002,
     "user": {
      "displayName": "Caifan \"Fan\" Du",
      "photoUrl": "https://lh5.googleusercontent.com/-fC-x9gqsQj4/AAAAAAAAAAI/AAAAAAAAAG8/RAFUeuEg9G8/s64/photo.jpg",
      "userId": "13587742640348736796"
     },
     "user_tz": 300
    },
    "id": "A5cwAYN7weGc",
    "outputId": "f2fe6ff6-8e12-4a06-a459-2a417ae432df"
   },
   "outputs": [],
   "source": [
    "# 2.1 import the second dataset: open access repositories\n",
    "oa_repo = pd.read_csv('https://raw.githubusercontent.com/caifand/DMRL_THA/master/FinalPaper/0_data_preprocessing/0_raw/doar.csv')\n",
    "\n",
    "print(oa_repo.head(5))\n",
    "print(oa_repo.shape)"
   ]
  },
  {
   "cell_type": "code",
   "execution_count": null,
   "metadata": {
    "colab": {
     "base_uri": "https://localhost:8080/",
     "height": 988
    },
    "colab_type": "code",
    "executionInfo": {
     "elapsed": 1205,
     "status": "ok",
     "timestamp": 1557460905014,
     "user": {
      "displayName": "Caifan \"Fan\" Du",
      "photoUrl": "https://lh5.googleusercontent.com/-fC-x9gqsQj4/AAAAAAAAAAI/AAAAAAAAAG8/RAFUeuEg9G8/s64/photo.jpg",
      "userId": "13587742640348736796"
     },
     "user_tz": 300
    },
    "id": "srIHora-xJCJ",
    "outputId": "92492001-c7e2-449e-f311-43507d89030e"
   },
   "outputs": [],
   "source": [
    "# 2.2 truncate needless columns\n",
    "\n",
    "# check columns and missing values\n",
    "oa_repo.isna().sum()"
   ]
  },
  {
   "cell_type": "code",
   "execution_count": null,
   "metadata": {
    "colab": {
     "base_uri": "https://localhost:8080/",
     "height": 243
    },
    "colab_type": "code",
    "executionInfo": {
     "elapsed": 1192,
     "status": "ok",
     "timestamp": 1557460905022,
     "user": {
      "displayName": "Caifan \"Fan\" Du",
      "photoUrl": "https://lh5.googleusercontent.com/-fC-x9gqsQj4/AAAAAAAAAAI/AAAAAAAAAG8/RAFUeuEg9G8/s64/photo.jpg",
      "userId": "13587742640348736796"
     },
     "user_tz": 300
    },
    "id": "Xa-u4mt_zwxO",
    "outputId": "65157fe1-1b95-4c72-b775-d7ef2ef6c6e9"
   },
   "outputs": [],
   "source": [
    "# only keep needed columns\n",
    "oa_repo = oa_repo[['preferred_name', 'year_established', 'preferred_org_name', 'date_created']]\n",
    "print(oa_repo.head(5))"
   ]
  },
  {
   "cell_type": "code",
   "execution_count": null,
   "metadata": {
    "colab": {},
    "colab_type": "code",
    "id": "lhmtM00C0jFz"
   },
   "outputs": [],
   "source": [
    "# 2.3 Deal with missing values\n",
    "\n",
    "# get needed data format\n",
    "oa_repo.dtypes\n",
    "oa_repo['date_created'] = oa_repo['date_created'].astype('datetime64')\n",
    "oa_repo['date'] = pd.DatetimeIndex(oa_repo['date_created']).year"
   ]
  },
  {
   "cell_type": "code",
   "execution_count": null,
   "metadata": {
    "colab": {
     "base_uri": "https://localhost:8080/",
     "height": 243
    },
    "colab_type": "code",
    "executionInfo": {
     "elapsed": 1314,
     "status": "ok",
     "timestamp": 1557460905195,
     "user": {
      "displayName": "Caifan \"Fan\" Du",
      "photoUrl": "https://lh5.googleusercontent.com/-fC-x9gqsQj4/AAAAAAAAAAI/AAAAAAAAAG8/RAFUeuEg9G8/s64/photo.jpg",
      "userId": "13587742640348736796"
     },
     "user_tz": 300
    },
    "id": "dpA5_m9f3ODI",
    "outputId": "cc9d93f2-d3ca-4e4d-ddc6-0f97cf905499"
   },
   "outputs": [],
   "source": [
    "# replace missing values in 'year_established' column with corresponding values in 'date' column\n",
    "oa_repo.year_established.fillna(oa_repo.date, inplace=True)\n",
    "\n",
    "print(oa_repo.head(5))"
   ]
  },
  {
   "cell_type": "code",
   "execution_count": null,
   "metadata": {
    "colab": {
     "base_uri": "https://localhost:8080/",
     "height": 243
    },
    "colab_type": "code",
    "executionInfo": {
     "elapsed": 1283,
     "status": "ok",
     "timestamp": 1557460905200,
     "user": {
      "displayName": "Caifan \"Fan\" Du",
      "photoUrl": "https://lh5.googleusercontent.com/-fC-x9gqsQj4/AAAAAAAAAAI/AAAAAAAAAG8/RAFUeuEg9G8/s64/photo.jpg",
      "userId": "13587742640348736796"
     },
     "user_tz": 300
    },
    "id": "yX05JqP64NCH",
    "outputId": "53ab51e8-d8ba-4250-dd7a-489022b57639"
   },
   "outputs": [],
   "source": [
    "# 2.4 Add new values\n",
    "\n",
    "# calculate the age of the OA repositories\n",
    "\n",
    "oa_repo['age'] = 2019 - oa_repo['year_established']\n",
    "print(oa_repo.head(5))"
   ]
  },
  {
   "cell_type": "code",
   "execution_count": null,
   "metadata": {
    "colab": {
     "base_uri": "https://localhost:8080/",
     "height": 121
    },
    "colab_type": "code",
    "executionInfo": {
     "elapsed": 1664,
     "status": "ok",
     "timestamp": 1557460905603,
     "user": {
      "displayName": "Caifan \"Fan\" Du",
      "photoUrl": "https://lh5.googleusercontent.com/-fC-x9gqsQj4/AAAAAAAAAAI/AAAAAAAAAG8/RAFUeuEg9G8/s64/photo.jpg",
      "userId": "13587742640348736796"
     },
     "user_tz": 300
    },
    "id": "t616aEA6Q7dV",
    "outputId": "5856e22a-51c5-42ea-f76c-3c7e312b3960"
   },
   "outputs": [],
   "source": [
    "# only keep needed columns\n",
    "oa_repo = oa_repo[['preferred_org_name', 'age']]\n",
    "oa_repo.rename(columns={'preferred_org_name':'institution',\n",
    "                    'age':'repo_age'}, \n",
    "                 inplace=True)\n",
    "print(oa_repo.head(5))"
   ]
  },
  {
   "cell_type": "code",
   "execution_count": null,
   "metadata": {
    "colab": {
     "base_uri": "https://localhost:8080/",
     "height": 971
    },
    "colab_type": "code",
    "executionInfo": {
     "elapsed": 1933,
     "status": "ok",
     "timestamp": 1557460905889,
     "user": {
      "displayName": "Caifan \"Fan\" Du",
      "photoUrl": "https://lh5.googleusercontent.com/-fC-x9gqsQj4/AAAAAAAAAAI/AAAAAAAAAG8/RAFUeuEg9G8/s64/photo.jpg",
      "userId": "13587742640348736796"
     },
     "user_tz": 300
    },
    "id": "bJ9J2WWyIWND",
    "outputId": "67f29b12-a2e2-43aa-a19b-1ab637285a1a"
   },
   "outputs": [],
   "source": [
    "# 3.1 import the third dataset: open access mandates and policies\n",
    "\n",
    "oap = pd.read_csv(\"https://raw.githubusercontent.com/caifand/DMRL_THA/master/FinalPaper/0_data_preprocessing/0_raw/roarmap.csv\")\n",
    "\n",
    "print(oap.shape)\n",
    "oap.isna().sum()"
   ]
  },
  {
   "cell_type": "code",
   "execution_count": null,
   "metadata": {
    "colab": {
     "base_uri": "https://localhost:8080/",
     "height": 121
    },
    "colab_type": "code",
    "executionInfo": {
     "elapsed": 1915,
     "status": "ok",
     "timestamp": 1557460905891,
     "user": {
      "displayName": "Caifan \"Fan\" Du",
      "photoUrl": "https://lh5.googleusercontent.com/-fC-x9gqsQj4/AAAAAAAAAAI/AAAAAAAAAG8/RAFUeuEg9G8/s64/photo.jpg",
      "userId": "13587742640348736796"
     },
     "user_tz": 300
    },
    "id": "eY0wMFxDIRoU",
    "outputId": "ddabdb42-ee2e-4c95-8c51-0aed3a2843e3"
   },
   "outputs": [],
   "source": [
    "# 3.2 Drop needless columns\n",
    "\n",
    "oap = oap[['policymaker_name', 'policy_adoption', 'policy_effecive']]\n",
    "print(oap.head(5))"
   ]
  },
  {
   "cell_type": "code",
   "execution_count": null,
   "metadata": {
    "colab": {
     "base_uri": "https://localhost:8080/",
     "height": 87
    },
    "colab_type": "code",
    "executionInfo": {
     "elapsed": 1898,
     "status": "ok",
     "timestamp": 1557460905893,
     "user": {
      "displayName": "Caifan \"Fan\" Du",
      "photoUrl": "https://lh5.googleusercontent.com/-fC-x9gqsQj4/AAAAAAAAAAI/AAAAAAAAAG8/RAFUeuEg9G8/s64/photo.jpg",
      "userId": "13587742640348736796"
     },
     "user_tz": 300
    },
    "id": "G9zwrA8a5KZ8",
    "outputId": "493ac802-9690-4f0e-b7ac-9049cdc5284b"
   },
   "outputs": [],
   "source": [
    "# 3.3 Deal with missing values\n",
    "# transform data types\n",
    "oap['policy_effecive'] = oap['policy_effecive'].astype('datetime64')\n",
    "oap['policy_adoption'] = oap['policy_adoption'].astype('datetime64')\n",
    "oap.dtypes"
   ]
  },
  {
   "cell_type": "code",
   "execution_count": null,
   "metadata": {
    "colab": {
     "base_uri": "https://localhost:8080/",
     "height": 243
    },
    "colab_type": "code",
    "executionInfo": {
     "elapsed": 1881,
     "status": "ok",
     "timestamp": 1557460905894,
     "user": {
      "displayName": "Caifan \"Fan\" Du",
      "photoUrl": "https://lh5.googleusercontent.com/-fC-x9gqsQj4/AAAAAAAAAAI/AAAAAAAAAG8/RAFUeuEg9G8/s64/photo.jpg",
      "userId": "13587742640348736796"
     },
     "user_tz": 300
    },
    "id": "3qqSxjkgNRtg",
    "outputId": "b59551d8-3f83-4f15-e6eb-00754c8a6f07"
   },
   "outputs": [],
   "source": [
    "# replace missing values\n",
    "\n",
    "oap['policy_effecive'].fillna(oap['policy_adoption'], inplace=True)\n",
    "\n",
    "oap['year_effective'] = pd.DatetimeIndex(oap['policy_effecive']).year\n",
    "print(oap.head(5))"
   ]
  },
  {
   "cell_type": "code",
   "execution_count": null,
   "metadata": {
    "colab": {
     "base_uri": "https://localhost:8080/",
     "height": 243
    },
    "colab_type": "code",
    "executionInfo": {
     "elapsed": 1861,
     "status": "ok",
     "timestamp": 1557460905898,
     "user": {
      "displayName": "Caifan \"Fan\" Du",
      "photoUrl": "https://lh5.googleusercontent.com/-fC-x9gqsQj4/AAAAAAAAAAI/AAAAAAAAAG8/RAFUeuEg9G8/s64/photo.jpg",
      "userId": "13587742640348736796"
     },
     "user_tz": 300
    },
    "id": "I_4cHkM3Odom",
    "outputId": "6b279dc5-6a5c-4fec-acc4-1de4578c7630"
   },
   "outputs": [],
   "source": [
    "#oap.isna().sum()\n",
    "# 3.4 Calculate new variable values\n",
    "\n",
    "oap['effective_year'] = 2019 - oap['year_effective']\n",
    "print(oap.head(5))"
   ]
  },
  {
   "cell_type": "code",
   "execution_count": null,
   "metadata": {
    "colab": {
     "base_uri": "https://localhost:8080/",
     "height": 121
    },
    "colab_type": "code",
    "executionInfo": {
     "elapsed": 1844,
     "status": "ok",
     "timestamp": 1557460905901,
     "user": {
      "displayName": "Caifan \"Fan\" Du",
      "photoUrl": "https://lh5.googleusercontent.com/-fC-x9gqsQj4/AAAAAAAAAAI/AAAAAAAAAG8/RAFUeuEg9G8/s64/photo.jpg",
      "userId": "13587742640348736796"
     },
     "user_tz": 300
    },
    "id": "fO4y63lqRhmN",
    "outputId": "7e633aa0-d479-4727-8813-0633620e4e45"
   },
   "outputs": [],
   "source": [
    "# truncate useless columns\n",
    "oap = oap[['policymaker_name', 'effective_year']]\n",
    "oap.rename(columns={'policymaker_name':'institution',\n",
    "                    'effective_year':'policy_year'}, \n",
    "                 inplace=True)\n",
    "print(oap.head(5))"
   ]
  },
  {
   "cell_type": "code",
   "execution_count": null,
   "metadata": {
    "colab": {
     "base_uri": "https://localhost:8080/",
     "height": 1949
    },
    "colab_type": "code",
    "executionInfo": {
     "elapsed": 1820,
     "status": "ok",
     "timestamp": 1557460905903,
     "user": {
      "displayName": "Caifan \"Fan\" Du",
      "photoUrl": "https://lh5.googleusercontent.com/-fC-x9gqsQj4/AAAAAAAAAAI/AAAAAAAAAG8/RAFUeuEg9G8/s64/photo.jpg",
      "userId": "13587742640348736796"
     },
     "user_tz": 300
    },
    "id": "HzBfXcaKX4Vo",
    "outputId": "5ac1e98b-94d5-4ddb-f369-d01455d6995c"
   },
   "outputs": [],
   "source": [
    "# 4.1 merge datasets\n",
    "# merge cite_rank & oa_repo\n",
    "cite_repo = cite_rank.merge(oa_repo, on='institution', how='inner')\n",
    "cite_repo"
   ]
  },
  {
   "cell_type": "code",
   "execution_count": null,
   "metadata": {
    "colab": {},
    "colab_type": "code",
    "id": "B6MSNcwoZfTQ"
   },
   "outputs": [],
   "source": [
    "# group by insitution and sort out the first entry within each group\n",
    "cite_repo = cite_repo.groupby('institution', as_index=False)\n",
    "cite_repo = cite_repo.first()"
   ]
  },
  {
   "cell_type": "code",
   "execution_count": null,
   "metadata": {
    "colab": {
     "base_uri": "https://localhost:8080/",
     "height": 693
    },
    "colab_type": "code",
    "executionInfo": {
     "elapsed": 1791,
     "status": "ok",
     "timestamp": 1557460905908,
     "user": {
      "displayName": "Caifan \"Fan\" Du",
      "photoUrl": "https://lh5.googleusercontent.com/-fC-x9gqsQj4/AAAAAAAAAAI/AAAAAAAAAG8/RAFUeuEg9G8/s64/photo.jpg",
      "userId": "13587742640348736796"
     },
     "user_tz": 300
    },
    "id": "96f_UwGHbBD9",
    "outputId": "9150421a-7e13-46e2-9ae4-1d802ae6732c"
   },
   "outputs": [],
   "source": [
    "# merge the third dataset oap\n",
    "repo_p = cite_repo.merge(oap, on='institution', how='inner')\n",
    "repo_p\n"
   ]
  },
  {
   "cell_type": "code",
   "execution_count": null,
   "metadata": {
    "colab": {
     "base_uri": "https://localhost:8080/",
     "height": 662
    },
    "colab_type": "code",
    "executionInfo": {
     "elapsed": 333,
     "status": "ok",
     "timestamp": 1557460941014,
     "user": {
      "displayName": "Caifan \"Fan\" Du",
      "photoUrl": "https://lh5.googleusercontent.com/-fC-x9gqsQj4/AAAAAAAAAAI/AAAAAAAAAG8/RAFUeuEg9G8/s64/photo.jpg",
      "userId": "13587742640348736796"
     },
     "user_tz": 300
    },
    "id": "MO0LtbEldhgd",
    "outputId": "f7e1429f-768a-4075-d843-922d074f9e54"
   },
   "outputs": [],
   "source": [
    "#repo_p.isna().sum()\n",
    "repo_p.dropna()\n",
    "#print(repo_p)"
   ]
  },
  {
   "cell_type": "code",
   "execution_count": null,
   "metadata": {
    "colab": {},
    "colab_type": "code",
    "id": "1czF5Ol8SRYI"
   },
   "outputs": [],
   "source": [
    "# 5.1 export intermediate data \n",
    "repo_p.to_csv(\"repo_p.csv\", index=False)"
   ]
  }
 ],
 "metadata": {
  "colab": {
   "collapsed_sections": [],
   "name": "preprocessing.ipynb",
   "provenance": [],
   "version": "0.3.2"
  },
  "kernelspec": {
   "display_name": "Python 3",
   "language": "python",
   "name": "python3"
  },
  "language_info": {
   "codemirror_mode": {
    "name": "ipython",
    "version": 3
   },
   "file_extension": ".py",
   "mimetype": "text/x-python",
   "name": "python",
   "nbconvert_exporter": "python",
   "pygments_lexer": "ipython3",
   "version": "3.7.0b1"
  }
 },
 "nbformat": 4,
 "nbformat_minor": 1
}
