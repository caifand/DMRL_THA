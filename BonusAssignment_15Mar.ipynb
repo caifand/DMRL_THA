{
  "nbformat": 4,
  "nbformat_minor": 0,
  "metadata": {
    "colab": {
      "name": "BonusAssignment_15Mar.ipynb",
      "version": "0.3.2",
      "provenance": [],
      "collapsed_sections": [],
      "include_colab_link": true
    },
    "kernelspec": {
      "name": "python3",
      "display_name": "Python 3"
    }
  },
  "cells": [
    {
      "cell_type": "markdown",
      "metadata": {
        "id": "view-in-github",
        "colab_type": "text"
      },
      "source": [
        "<a href=\"https://colab.research.google.com/github/caifand/DMRL_THA/blob/master/BonusAssignment_15Mar.ipynb\" target=\"_parent\"><img src=\"https://colab.research.google.com/assets/colab-badge.svg\" alt=\"Open In Colab\"/></a>"
      ]
    },
    {
      "metadata": {
        "id": "8hFeZ0WorBtX",
        "colab_type": "code",
        "outputId": "1eafc0c7-6a44-462e-b44f-6c28bc7ce63c",
        "colab": {
          "base_uri": "https://localhost:8080/",
          "height": 1753
        }
      },
      "cell_type": "code",
      "source": [
        "import json\n",
        "import requests\n",
        "\n",
        "headers = {\n",
        "    'Ocp-Apim-Subscription-Key': '1032dbfb338b4cb2a6b888ed74cad9cd',\n",
        "}\n",
        "\n",
        "params = ({\n",
        "    \n",
        "    'q': 'open source',\n",
        "    \n",
        "    'count': '100',\n",
        "       \n",
        "    'mkt': 'en-us',\n",
        "    \n",
        "    'since': 2016,\n",
        "    \n",
        "    'sortyBy': 'date',\n",
        "    \n",
        "})\n",
        "\n",
        "response = requests.get(\"https://api.cognitive.microsoft.com//bing/v7.0/news/search?%s?\", headers=headers, params=params)\n",
        "response.raise_for_status()\n",
        "print(response)\n",
        "\n",
        "content = response.json()\n",
        "\n",
        "content\n",
        "\n",
        "url = []\n",
        "\n",
        "for value in content['value']:\n",
        "  url.append(value['url'])\n",
        "  \n",
        "url\n",
        " "
      ],
      "execution_count": 0,
      "outputs": [
        {
          "output_type": "stream",
          "text": [
            "<Response [200]>\n"
          ],
          "name": "stdout"
        },
        {
          "output_type": "execute_result",
          "data": {
            "text/plain": [
              "['https://www.technologyreview.com/the-download/613126/darpa-is-trying-to-build-an-unhackable-open-source-voting-system/',\n",
              " 'https://www.businessinsider.com/amazon-web-services-open-source-elasticsearch-2019-3',\n",
              " 'https://www.infoworld.com/article/3365017/cidlib-c-dev-tool-goes-open-source.html',\n",
              " 'https://www.zdnet.com/article/cloud-computing-why-microsofts-open-source-data-plan-is-a-big-step-forward/',\n",
              " 'https://seekingalpha.com/article/4249198-f5-acquire-nginx-open-source-application-delivery-tech',\n",
              " 'https://sdtimes.com/os/sd-times-open-source-project-of-the-week-communitybridge/',\n",
              " 'https://www.fiercetelecom.com/telecom/cincinnati-bell-division-cbts-bows-new-open-source-reference-architecture',\n",
              " 'https://www.sdxcentral.com/articles/news/intel-linux-foundation-launch-open-source-silicon-groups/2019/03/',\n",
              " 'https://www.marketwatch.com/press-release/open-source-services-market-is-determined-to-exceed-us-47-billion-by-2024-2019-03-13',\n",
              " 'https://finance.yahoo.com/news/myetherwallet-launches-open-source-ethereum-115700964.html',\n",
              " 'https://motherboard.vice.com/en_us/article/yw84q7/darpa-is-building-a-dollar10-million-open-source-secure-voting-system',\n",
              " 'https://www.zdnet.com/article/red-team-to-help-secure-open-source-software/',\n",
              " 'https://www.techrepublic.com/article/how-pcgeos-found-a-5th-life-as-an-open-source-dos-shell/',\n",
              " 'https://www.infoworld.com/article/3366297/open-source-licenses-may-not-matter-so-much-any-more.html',\n",
              " 'https://venturebeat.com/2019/03/13/google-releases-open-source-tool-to-make-ios-more-accessible/',\n",
              " 'http://virtual-strategy.com/2019/03/13/healthcare-design-studio-releases-repo-of-free-open-source/',\n",
              " 'http://www.businesswire.com/news/home/20190314005195/en/CBTS-Carrier-Open-Infrastructure-COI-Accelerates-10G/?feedref=JjAwJuNHiystnCoBq_hl-cFcUWvK4NSyDWO6DSHmLQqqcp-o_pnudlUwsb5apQ1S4gUE65BTfjH3-pSuqdv0gW3cb3F4oTIgUqCPafFkgu6AeRucmCP4ZHknI_zC0f97',\n",
              " 'https://www.moodlenews.com/2019/css/',\n",
              " 'https://www.sdxcentral.com/articles/news/microsoft-ziplines-into-open-source-storage-facebook-launches-ai-hardware/2019/03/',\n",
              " 'https://www.fiercetelecom.com/telecom/linux-foundation-announces-community-bridge-platform-for-open-source-developers',\n",
              " 'https://venturebeat.com/2019/03/13/tetrate-raises-12-5-million-to-manage-microservices-with-open-source-software-1-reply/',\n",
              " 'https://www.linuxtoday.com/security/new-red-team-project-aims-to-help-secure-open-source-software.html',\n",
              " 'https://www.valdostadailytimes.com/news/business/apstra-showcases-intent-based-data-center-automation-with-sonic-in/article_a610c0f5-c56f-528f-b0cc-f5051a0a5b65.html',\n",
              " 'https://markets.businessinsider.com/news/stocks/healthcare-design-studio-releases-repo-of-free-open-source-visualizations-1028029950',\n",
              " 'https://futurism.com/darpa-open-source-voting-machine',\n",
              " 'https://winbuzzer.com/2019/03/15/microsoft-brings-project-zipline-compression-algorithm-to-open-source-xcxwbn/',\n",
              " 'https://medium.com/microsoftazure/7-amazing-open-source-nlp-tools-to-try-with-notebooks-in-2019-c9eec058d9f1',\n",
              " 'https://www.wired.com/story/woman-bringing-civility-to-open-source-projects/',\n",
              " 'https://www.wired.com/story/netflix-open-source-wants-developers-get-paid/',\n",
              " 'https://www.crn.com/news/applications-os/ibm-ceo-and-friends-open-up-about-open-source-everything-that-can-be-open-source-we-d-prefer-to-be-open-source-',\n",
              " 'https://www.businessinsider.com/open-source-software-investors-success-2019-2',\n",
              " 'https://www.linuxjournal.com/content/open-science-open-source-and-r',\n",
              " 'https://www.computerweekly.com/news/252458090/Redis-Labs-swaps-out-open-source-to-protect-against-public-clouds',\n",
              " 'https://www.datacenterknowledge.com/open-source/swim-open-sources-its-machine-learning-platform-edge-computing',\n",
              " 'https://lwn.net/Articles/780078/',\n",
              " 'https://www.technewsworld.com/story/85859.html',\n",
              " 'https://bitcoinmagazine.com/articles/will-vulnerability-finally-compel-bitmain-open-source-its-firmware/',\n",
              " 'https://medium.com/sustainable-free-and-open-source-communities/we-need-sustainable-free-and-open-source-communities-edf92723d619',\n",
              " 'https://jaxenter.com/future-open-source-devops-155032.html',\n",
              " 'http://www.govtech.com/opinion/Four-Myths-About-Open-Source-in-Government-Contributed.html',\n",
              " 'https://www.financialexpress.com/opinion/open-up-to-open-source/1476602/',\n",
              " 'https://www.computerworlduk.com/open-source/open-source-predictions-for-2019-3689643/',\n",
              " 'https://dzone.com/articles/open-source-iot-edge-projects',\n",
              " 'https://techcrunch.com/2019/01/12/how-open-source-software-took-over-the-world/',\n",
              " 'https://www.designnews.com/electronics-test/2019-will-be-year-open-source/174144007660005',\n",
              " 'https://finance.yahoo.com/news/affirmation-open-source-definition-193100665.html',\n",
              " 'https://www.eweek.com/pc-hardware/mips-goes-open-source-challenges-arm-and-risc-v',\n",
              " 'https://www.prnewswire.com/news-releases/mapzen-open-source-data-and-software-for-real-time-mapping-applications-to-become-a-linux-foundation-project-300784740.html',\n",
              " 'https://www.datacenterknowledge.com/open-source/confluent-creates-new-open-source-license-stop-cloud-poaching',\n",
              " 'https://www.computerweekly.com/news/252456868/Interview-The-power-of-open-source',\n",
              " 'https://www.lightreading.com/open-source/openstack/atandt-building-5g-network-on-an-open-source-foundation/d/d-id/749405',\n",
              " 'https://sdtimes.com/os/osi-weighs-in-on-open-source-licensing-conflict/',\n",
              " 'https://searchsecurity.techtarget.com/news/252455479/NSA-to-release-GHIDRA-open-source-reverse-engineering-tool',\n",
              " 'https://searchdatamanagement.techtarget.com/news/252456939/Open-source-cloud-databases-battle-strip-mining-by-AWS',\n",
              " 'https://www.darkreading.com/vulnerabilities---threats/open-source-and-machine-learning-a-dynamic-duo/a/d-id/1333720',\n",
              " 'https://www.lightreading.com/open-source/how-open-source-has-turned-the-software-industry-upside-down/d/d-id/748603',\n",
              " 'https://www.allaboutcircuits.com/news/western-digital-swerv-open-source-risc-v-core-iss-cache-coherency/',\n",
              " 'https://www.datanami.com/2018/12/24/cloud-backlash-grows-as-open-source-gets-less-open/',\n",
              " 'https://www.tomshardware.com/news/microsoft-employee-leaks-windows-core-open-source-components,38476.html',\n",
              " 'https://www.geekwire.com/2019/microsoft-joins-open-source-foundation-trying-simplify-software-supply-chain/',\n",
              " 'https://gcn.com/articles/2018/12/14/california-open-source-code.aspx',\n",
              " 'https://www.cmswire.com/information-management/5-things-it-managers-should-consider-around-open-source-software/',\n",
              " 'https://www.eweek.com/security/open-source-metasploit-framework-5.0-improves-security-testing',\n",
              " 'https://news.slashdot.org/story/18/12/15/2221232/do-alternative-software-licenses-represent-open-sources-midlife-crisis',\n",
              " 'https://www.networkworld.com/article/3331852/review-4-open-source-network-management-tools-improve-usability-performance.html',\n",
              " 'https://siliconangle.com/2019/01/04/bridging-multicloud-gap-open-source-think2019-womenintech/',\n",
              " 'https://www.infoq.com/news/2019/01/baidu-edge-platform-opensource',\n",
              " 'https://betanews.com/2019/02/12/unmanaged-open-source-risk/',\n",
              " 'https://www.cio.com/article/3289504/open-source-tools/open-source-mobile-operating-systems-need-to-control-fragmentation.html',\n",
              " 'https://www.jdsupra.com/legalnews/open-source-javascript-compliance-tips-87720/',\n",
              " 'http://www.circleid.com/posts/20190116_the_need_for_sustainable_open_source_projects/',\n",
              " 'https://www.enterprisetech.com/2019/01/18/google-remains-top-open-source-contributor/',\n",
              " 'http://www.enterpriseappstoday.com/news/tidelift-doubles-down-on-supporting-open-source-enterprise-application-development.html',\n",
              " 'https://www.techrepublic.com/article/open-source-predictions-for-2019/',\n",
              " 'https://seekingalpha.com/article/4211149-red-hat-open-source-great-business',\n",
              " 'https://www.infoq.com/articles/vulnerability-open-source',\n",
              " 'https://www.geekwire.com/2018/open-source-companies-considering-closed-approach/',\n",
              " 'https://www.itjungle.com/2018/12/12/open-source-is-the-future-so-where-does-ibm-i-fit-in/',\n",
              " 'http://fortune.com/2018/10/10/microsoft-patents-open-source/',\n",
              " 'https://www.linuxjournal.com/content/open-science-means-open-source-or-least-it-should',\n",
              " 'https://techcrunch.com/2018/10/17/whitesource-nabs-35m-to-track-open-source-code-for-security-vulnerabilities/',\n",
              " 'https://www.cmswire.com/open-source-cms/the-consequences-of-a-changing-open-source-software-business-model/',\n",
              " 'https://www.datamation.com/data-center/50-top-open-source-tools-for-big-data-1.html',\n",
              " 'https://newatlas.com/best-open-source-apps/56366/',\n",
              " 'https://www.linuxinsider.com/story/85646.html',\n",
              " 'https://www.linuxinsider.com/story/85574.html',\n",
              " 'https://www.xda-developers.com/the-importance-of-open-source-in-root/',\n",
              " 'https://jaxenter.com/commons-clause-vs-open-source-149640.html',\n",
              " 'https://motherboard.vice.com/en_us/article/pawnwv/open-source-devs-reverse-decision-to-block-ice-contractors-from-using-software',\n",
              " 'https://www.fedscoop.com/open-source-can-spark-innovative-business-transformation-government-red-hat-leaders-say/',\n",
              " 'https://www.itjungle.com/2018/10/15/new-open-source-erp-suite-written-in-ile-rpg/',\n",
              " 'https://www.financialexpress.com/industry/technology/ai-data-science-open-source-makes-nse-smart-and-secure/1408544/',\n",
              " 'https://searchdatamanagement.techtarget.com/feature/Open-source-RDBMS-uses-spurred-by-lower-costs-cloud-options',\n",
              " 'https://www.sitepoint.com/what-does-open-source-mean-to-you/',\n",
              " 'https://rcpmag.com/articles/2018/09/17/microsoft-open-source-shift.aspx',\n",
              " 'https://siliconangle.com/2018/11/13/open-source-and-cloud-native-kubernetes-paves-the-way-for-new-companies-to-bring-devops-to-data-cubeconversations/',\n",
              " 'https://hbswk.hbs.edu/item/the-hidden-benefit-of-giving-back-to-open-source-software',\n",
              " 'https://dzone.com/articles/open-source-2018-surprises-and-2019-predictions']"
            ]
          },
          "metadata": {
            "tags": []
          },
          "execution_count": 11
        }
      ]
    },
    {
      "metadata": {
        "id": "0CB6NSex0QyO",
        "colab_type": "code",
        "outputId": "ed3e0cb8-6b70-4730-e09f-c1ce78118ea0",
        "colab": {
          "base_uri": "https://localhost:8080/",
          "height": 835
        }
      },
      "cell_type": "code",
      "source": [
        "!pip install newspaper3k"
      ],
      "execution_count": 0,
      "outputs": [
        {
          "output_type": "stream",
          "text": [
            "Collecting newspaper3k\n",
            "\u001b[?25l  Downloading https://files.pythonhosted.org/packages/d7/b9/51afecb35bb61b188a4b44868001de348a0e8134b4dfa00ffc191567c4b9/newspaper3k-0.2.8-py3-none-any.whl (211kB)\n",
            "\u001b[K    100% |████████████████████████████████| 215kB 25.6MB/s \n",
            "\u001b[?25hCollecting cssselect>=0.9.2 (from newspaper3k)\n",
            "  Downloading https://files.pythonhosted.org/packages/7b/44/25b7283e50585f0b4156960691d951b05d061abf4a714078393e51929b30/cssselect-1.0.3-py2.py3-none-any.whl\n",
            "Collecting tldextract>=2.0.1 (from newspaper3k)\n",
            "\u001b[?25l  Downloading https://files.pythonhosted.org/packages/1e/90/18ac0e5340b6228c25cc8e79835c3811e7553b2b9ae87296dfeb62b7866d/tldextract-2.2.1-py2.py3-none-any.whl (48kB)\n",
            "\u001b[K    100% |████████████████████████████████| 51kB 18.5MB/s \n",
            "\u001b[?25hCollecting feedfinder2>=0.0.4 (from newspaper3k)\n",
            "  Downloading https://files.pythonhosted.org/packages/35/82/1251fefec3bb4b03fd966c7e7f7a41c9fc2bb00d823a34c13f847fd61406/feedfinder2-0.0.4.tar.gz\n",
            "Collecting tinysegmenter==0.3 (from newspaper3k)\n",
            "  Downloading https://files.pythonhosted.org/packages/17/82/86982e4b6d16e4febc79c2a1d68ee3b707e8a020c5d2bc4af8052d0f136a/tinysegmenter-0.3.tar.gz\n",
            "Requirement already satisfied: nltk>=3.2.1 in /usr/local/lib/python3.6/dist-packages (from newspaper3k) (3.2.5)\n",
            "Requirement already satisfied: beautifulsoup4>=4.4.1 in /usr/local/lib/python3.6/dist-packages (from newspaper3k) (4.6.3)\n",
            "Requirement already satisfied: PyYAML>=3.11 in /usr/local/lib/python3.6/dist-packages (from newspaper3k) (3.13)\n",
            "Requirement already satisfied: requests>=2.10.0 in /usr/local/lib/python3.6/dist-packages (from newspaper3k) (2.18.4)\n",
            "Collecting jieba3k>=0.35.1 (from newspaper3k)\n",
            "\u001b[?25l  Downloading https://files.pythonhosted.org/packages/a9/cb/2c8332bcdc14d33b0bedd18ae0a4981a069c3513e445120da3c3f23a8aaa/jieba3k-0.35.1.zip (7.4MB)\n",
            "\u001b[K    100% |████████████████████████████████| 7.4MB 3.6MB/s \n",
            "\u001b[?25hCollecting feedparser>=5.2.1 (from newspaper3k)\n",
            "\u001b[?25l  Downloading https://files.pythonhosted.org/packages/91/d8/7d37fec71ff7c9dbcdd80d2b48bcdd86d6af502156fc93846fb0102cb2c4/feedparser-5.2.1.tar.bz2 (192kB)\n",
            "\u001b[K    100% |████████████████████████████████| 194kB 27.9MB/s \n",
            "\u001b[?25hRequirement already satisfied: Pillow>=3.3.0 in /usr/local/lib/python3.6/dist-packages (from newspaper3k) (4.1.1)\n",
            "Requirement already satisfied: python-dateutil>=2.5.3 in /usr/local/lib/python3.6/dist-packages (from newspaper3k) (2.5.3)\n",
            "Requirement already satisfied: lxml>=3.6.0 in /usr/local/lib/python3.6/dist-packages (from newspaper3k) (4.2.6)\n",
            "Requirement already satisfied: idna in /usr/local/lib/python3.6/dist-packages (from tldextract>=2.0.1->newspaper3k) (2.6)\n",
            "Collecting requests-file>=1.4 (from tldextract>=2.0.1->newspaper3k)\n",
            "  Downloading https://files.pythonhosted.org/packages/23/9c/6e63c23c39e53d3df41c77a3d05a49a42c4e1383a6d2a5e3233161b89dbf/requests_file-1.4.3-py2.py3-none-any.whl\n",
            "Requirement already satisfied: setuptools in /usr/local/lib/python3.6/dist-packages (from tldextract>=2.0.1->newspaper3k) (40.8.0)\n",
            "Requirement already satisfied: six in /usr/local/lib/python3.6/dist-packages (from feedfinder2>=0.0.4->newspaper3k) (1.11.0)\n",
            "Requirement already satisfied: chardet<3.1.0,>=3.0.2 in /usr/local/lib/python3.6/dist-packages (from requests>=2.10.0->newspaper3k) (3.0.4)\n",
            "Requirement already satisfied: certifi>=2017.4.17 in /usr/local/lib/python3.6/dist-packages (from requests>=2.10.0->newspaper3k) (2019.3.9)\n",
            "Requirement already satisfied: urllib3<1.23,>=1.21.1 in /usr/local/lib/python3.6/dist-packages (from requests>=2.10.0->newspaper3k) (1.22)\n",
            "Requirement already satisfied: olefile in /usr/local/lib/python3.6/dist-packages (from Pillow>=3.3.0->newspaper3k) (0.46)\n",
            "Building wheels for collected packages: feedfinder2, tinysegmenter, jieba3k, feedparser\n",
            "  Building wheel for feedfinder2 (setup.py) ... \u001b[?25ldone\n",
            "\u001b[?25h  Stored in directory: /root/.cache/pip/wheels/de/03/ca/778e3a7a627e3d98836cc890e7cb40c7575424cfd3340f40ed\n",
            "  Building wheel for tinysegmenter (setup.py) ... \u001b[?25ldone\n",
            "\u001b[?25h  Stored in directory: /root/.cache/pip/wheels/81/2b/43/a02ede72324dd40cdd7ca53aad718c7710628e91b8b0dc0f02\n",
            "  Building wheel for jieba3k (setup.py) ... \u001b[?25ldone\n",
            "\u001b[?25h  Stored in directory: /root/.cache/pip/wheels/83/15/9c/a3f1f67e7f7181170ad37d32e503c35da20627c013f438ed34\n",
            "  Building wheel for feedparser (setup.py) ... \u001b[?25ldone\n",
            "\u001b[?25h  Stored in directory: /root/.cache/pip/wheels/8c/69/b7/f52763c41c5471df57703a0ef718a32a5e81ee35dcf6d4f97f\n",
            "Successfully built feedfinder2 tinysegmenter jieba3k feedparser\n",
            "Installing collected packages: cssselect, requests-file, tldextract, feedfinder2, tinysegmenter, jieba3k, feedparser, newspaper3k\n",
            "Successfully installed cssselect-1.0.3 feedfinder2-0.0.4 feedparser-5.2.1 jieba3k-0.35.1 newspaper3k-0.2.8 requests-file-1.4.3 tinysegmenter-0.3 tldextract-2.2.1\n"
          ],
          "name": "stdout"
        }
      ]
    },
    {
      "metadata": {
        "id": "es7gYnw-09fA",
        "colab_type": "code",
        "outputId": "0b35475d-5eca-41b5-c8b6-e5971b5e61be",
        "colab": {
          "base_uri": "https://localhost:8080/",
          "height": 825
        }
      },
      "cell_type": "code",
      "source": [
        "from newspaper import fulltext\n",
        "\n",
        "html = requests.get(\"https://api.cognitive.microsoft.com//bing/v7.0/news/search?%s?\", headers=headers, params=params).text\n",
        "text = fulltext(html)\n",
        "text.to_tsv(\"newstext.tsv\")"
      ],
      "execution_count": 0,
      "outputs": [
        {
          "output_type": "error",
          "ename": "AttributeError",
          "evalue": "ignored",
          "traceback": [
            "\u001b[0;31m---------------------------------------------------------------------------\u001b[0m",
            "\u001b[0;31mAttributeError\u001b[0m                            Traceback (most recent call last)",
            "\u001b[0;32m<ipython-input-30-6b3ae95ecf8f>\u001b[0m in \u001b[0;36m<module>\u001b[0;34m()\u001b[0m\n\u001b[1;32m      2\u001b[0m \u001b[0;34m\u001b[0m\u001b[0m\n\u001b[1;32m      3\u001b[0m \u001b[0mhtml\u001b[0m \u001b[0;34m=\u001b[0m \u001b[0mrequests\u001b[0m\u001b[0;34m.\u001b[0m\u001b[0mget\u001b[0m\u001b[0;34m(\u001b[0m\u001b[0;34m\"https://api.cognitive.microsoft.com//bing/v7.0/news/search?%s?\"\u001b[0m\u001b[0;34m,\u001b[0m \u001b[0mheaders\u001b[0m\u001b[0;34m=\u001b[0m\u001b[0mheaders\u001b[0m\u001b[0;34m,\u001b[0m \u001b[0mparams\u001b[0m\u001b[0;34m=\u001b[0m\u001b[0mparams\u001b[0m\u001b[0;34m)\u001b[0m\u001b[0;34m.\u001b[0m\u001b[0mtext\u001b[0m\u001b[0;34m\u001b[0m\u001b[0;34m\u001b[0m\u001b[0m\n\u001b[0;32m----> 4\u001b[0;31m \u001b[0mtext\u001b[0m \u001b[0;34m=\u001b[0m \u001b[0mfulltext\u001b[0m\u001b[0;34m(\u001b[0m\u001b[0mhtml\u001b[0m\u001b[0;34m)\u001b[0m\u001b[0;34m\u001b[0m\u001b[0;34m\u001b[0m\u001b[0m\n\u001b[0m\u001b[1;32m      5\u001b[0m \u001b[0mtext\u001b[0m\u001b[0;34m.\u001b[0m\u001b[0mto_tsv\u001b[0m\u001b[0;34m(\u001b[0m\u001b[0;34m\"newstext.tsv\"\u001b[0m\u001b[0;34m)\u001b[0m\u001b[0;34m\u001b[0m\u001b[0;34m\u001b[0m\u001b[0m\n",
            "\u001b[0;32m/usr/local/lib/python3.6/dist-packages/newspaper/api.py\u001b[0m in \u001b[0;36mfulltext\u001b[0;34m(html, language)\u001b[0m\n\u001b[1;32m     89\u001b[0m \u001b[0;34m\u001b[0m\u001b[0m\n\u001b[1;32m     90\u001b[0m     \u001b[0mtop_node\u001b[0m \u001b[0;34m=\u001b[0m \u001b[0mextractor\u001b[0m\u001b[0;34m.\u001b[0m\u001b[0mcalculate_best_node\u001b[0m\u001b[0;34m(\u001b[0m\u001b[0mdoc\u001b[0m\u001b[0;34m)\u001b[0m\u001b[0;34m\u001b[0m\u001b[0;34m\u001b[0m\u001b[0m\n\u001b[0;32m---> 91\u001b[0;31m     \u001b[0mtop_node\u001b[0m \u001b[0;34m=\u001b[0m \u001b[0mextractor\u001b[0m\u001b[0;34m.\u001b[0m\u001b[0mpost_cleanup\u001b[0m\u001b[0;34m(\u001b[0m\u001b[0mtop_node\u001b[0m\u001b[0;34m)\u001b[0m\u001b[0;34m\u001b[0m\u001b[0;34m\u001b[0m\u001b[0m\n\u001b[0m\u001b[1;32m     92\u001b[0m     \u001b[0mtext\u001b[0m\u001b[0;34m,\u001b[0m \u001b[0marticle_html\u001b[0m \u001b[0;34m=\u001b[0m \u001b[0moutput_formatter\u001b[0m\u001b[0;34m.\u001b[0m\u001b[0mget_formatted\u001b[0m\u001b[0;34m(\u001b[0m\u001b[0mtop_node\u001b[0m\u001b[0;34m)\u001b[0m\u001b[0;34m\u001b[0m\u001b[0;34m\u001b[0m\u001b[0m\n\u001b[1;32m     93\u001b[0m     \u001b[0;32mreturn\u001b[0m \u001b[0mtext\u001b[0m\u001b[0;34m\u001b[0m\u001b[0;34m\u001b[0m\u001b[0m\n",
            "\u001b[0;32m/usr/local/lib/python3.6/dist-packages/newspaper/extractors.py\u001b[0m in \u001b[0;36mpost_cleanup\u001b[0;34m(self, top_node)\u001b[0m\n\u001b[1;32m   1038\u001b[0m         \u001b[0;32mor\u001b[0m \u001b[0mparas\u001b[0m \u001b[0;32mwith\u001b[0m \u001b[0mno\u001b[0m \u001b[0mgusto\u001b[0m\u001b[0;34m;\u001b[0m \u001b[0madd\u001b[0m \u001b[0madjacent\u001b[0m \u001b[0mnodes\u001b[0m \u001b[0mwhich\u001b[0m \u001b[0mlook\u001b[0m \u001b[0mcontenty\u001b[0m\u001b[0;34m\u001b[0m\u001b[0;34m\u001b[0m\u001b[0m\n\u001b[1;32m   1039\u001b[0m         \"\"\"\n\u001b[0;32m-> 1040\u001b[0;31m         \u001b[0mnode\u001b[0m \u001b[0;34m=\u001b[0m \u001b[0mself\u001b[0m\u001b[0;34m.\u001b[0m\u001b[0madd_siblings\u001b[0m\u001b[0;34m(\u001b[0m\u001b[0mtop_node\u001b[0m\u001b[0;34m)\u001b[0m\u001b[0;34m\u001b[0m\u001b[0;34m\u001b[0m\u001b[0m\n\u001b[0m\u001b[1;32m   1041\u001b[0m         \u001b[0;32mfor\u001b[0m \u001b[0me\u001b[0m \u001b[0;32min\u001b[0m \u001b[0mself\u001b[0m\u001b[0;34m.\u001b[0m\u001b[0mparser\u001b[0m\u001b[0;34m.\u001b[0m\u001b[0mgetChildren\u001b[0m\u001b[0;34m(\u001b[0m\u001b[0mnode\u001b[0m\u001b[0;34m)\u001b[0m\u001b[0;34m:\u001b[0m\u001b[0;34m\u001b[0m\u001b[0;34m\u001b[0m\u001b[0m\n\u001b[1;32m   1042\u001b[0m             \u001b[0me_tag\u001b[0m \u001b[0;34m=\u001b[0m \u001b[0mself\u001b[0m\u001b[0;34m.\u001b[0m\u001b[0mparser\u001b[0m\u001b[0;34m.\u001b[0m\u001b[0mgetTag\u001b[0m\u001b[0;34m(\u001b[0m\u001b[0me\u001b[0m\u001b[0;34m)\u001b[0m\u001b[0;34m\u001b[0m\u001b[0;34m\u001b[0m\u001b[0m\n",
            "\u001b[0;32m/usr/local/lib/python3.6/dist-packages/newspaper/extractors.py\u001b[0m in \u001b[0;36madd_siblings\u001b[0;34m(self, top_node)\u001b[0m\n\u001b[1;32m    867\u001b[0m \u001b[0;34m\u001b[0m\u001b[0m\n\u001b[1;32m    868\u001b[0m     \u001b[0;32mdef\u001b[0m \u001b[0madd_siblings\u001b[0m\u001b[0;34m(\u001b[0m\u001b[0mself\u001b[0m\u001b[0;34m,\u001b[0m \u001b[0mtop_node\u001b[0m\u001b[0;34m)\u001b[0m\u001b[0;34m:\u001b[0m\u001b[0;34m\u001b[0m\u001b[0;34m\u001b[0m\u001b[0m\n\u001b[0;32m--> 869\u001b[0;31m         \u001b[0mbaseline_score_siblings_para\u001b[0m \u001b[0;34m=\u001b[0m \u001b[0mself\u001b[0m\u001b[0;34m.\u001b[0m\u001b[0mget_siblings_score\u001b[0m\u001b[0;34m(\u001b[0m\u001b[0mtop_node\u001b[0m\u001b[0;34m)\u001b[0m\u001b[0;34m\u001b[0m\u001b[0;34m\u001b[0m\u001b[0m\n\u001b[0m\u001b[1;32m    870\u001b[0m         \u001b[0mresults\u001b[0m \u001b[0;34m=\u001b[0m \u001b[0mself\u001b[0m\u001b[0;34m.\u001b[0m\u001b[0mwalk_siblings\u001b[0m\u001b[0;34m(\u001b[0m\u001b[0mtop_node\u001b[0m\u001b[0;34m)\u001b[0m\u001b[0;34m\u001b[0m\u001b[0;34m\u001b[0m\u001b[0m\n\u001b[1;32m    871\u001b[0m         \u001b[0;32mfor\u001b[0m \u001b[0mcurrent_node\u001b[0m \u001b[0;32min\u001b[0m \u001b[0mresults\u001b[0m\u001b[0;34m:\u001b[0m\u001b[0;34m\u001b[0m\u001b[0;34m\u001b[0m\u001b[0m\n",
            "\u001b[0;32m/usr/local/lib/python3.6/dist-packages/newspaper/extractors.py\u001b[0m in \u001b[0;36mget_siblings_score\u001b[0;34m(self, top_node)\u001b[0m\n\u001b[1;32m    924\u001b[0m         \u001b[0mparagraphs_number\u001b[0m \u001b[0;34m=\u001b[0m \u001b[0;36m0\u001b[0m\u001b[0;34m\u001b[0m\u001b[0;34m\u001b[0m\u001b[0m\n\u001b[1;32m    925\u001b[0m         \u001b[0mparagraphs_score\u001b[0m \u001b[0;34m=\u001b[0m \u001b[0;36m0\u001b[0m\u001b[0;34m\u001b[0m\u001b[0;34m\u001b[0m\u001b[0m\n\u001b[0;32m--> 926\u001b[0;31m         \u001b[0mnodes_to_check\u001b[0m \u001b[0;34m=\u001b[0m \u001b[0mself\u001b[0m\u001b[0;34m.\u001b[0m\u001b[0mparser\u001b[0m\u001b[0;34m.\u001b[0m\u001b[0mgetElementsByTag\u001b[0m\u001b[0;34m(\u001b[0m\u001b[0mtop_node\u001b[0m\u001b[0;34m,\u001b[0m \u001b[0mtag\u001b[0m\u001b[0;34m=\u001b[0m\u001b[0;34m'p'\u001b[0m\u001b[0;34m)\u001b[0m\u001b[0;34m\u001b[0m\u001b[0;34m\u001b[0m\u001b[0m\n\u001b[0m\u001b[1;32m    927\u001b[0m \u001b[0;34m\u001b[0m\u001b[0m\n\u001b[1;32m    928\u001b[0m         \u001b[0;32mfor\u001b[0m \u001b[0mnode\u001b[0m \u001b[0;32min\u001b[0m \u001b[0mnodes_to_check\u001b[0m\u001b[0;34m:\u001b[0m\u001b[0;34m\u001b[0m\u001b[0;34m\u001b[0m\u001b[0m\n",
            "\u001b[0;32m/usr/local/lib/python3.6/dist-packages/newspaper/parsers.py\u001b[0m in \u001b[0;36mgetElementsByTag\u001b[0;34m(cls, node, tag, attr, value, childs, use_regex)\u001b[0m\n\u001b[1;32m    121\u001b[0m                 \u001b[0mtrans\u001b[0m \u001b[0;34m=\u001b[0m \u001b[0;34m'translate(@%s, \"%s\", \"%s\")'\u001b[0m \u001b[0;34m%\u001b[0m \u001b[0;34m(\u001b[0m\u001b[0mattr\u001b[0m\u001b[0;34m,\u001b[0m \u001b[0mstring\u001b[0m\u001b[0;34m.\u001b[0m\u001b[0mascii_uppercase\u001b[0m\u001b[0;34m,\u001b[0m \u001b[0mstring\u001b[0m\u001b[0;34m.\u001b[0m\u001b[0mascii_lowercase\u001b[0m\u001b[0;34m)\u001b[0m\u001b[0;34m\u001b[0m\u001b[0;34m\u001b[0m\u001b[0m\n\u001b[1;32m    122\u001b[0m                 \u001b[0mselector\u001b[0m \u001b[0;34m=\u001b[0m \u001b[0;34m'%s[contains(%s, \"%s\")]'\u001b[0m \u001b[0;34m%\u001b[0m \u001b[0;34m(\u001b[0m\u001b[0mselector\u001b[0m\u001b[0;34m,\u001b[0m \u001b[0mtrans\u001b[0m\u001b[0;34m,\u001b[0m \u001b[0mvalue\u001b[0m\u001b[0;34m.\u001b[0m\u001b[0mlower\u001b[0m\u001b[0;34m(\u001b[0m\u001b[0;34m)\u001b[0m\u001b[0;34m)\u001b[0m\u001b[0;34m\u001b[0m\u001b[0;34m\u001b[0m\u001b[0m\n\u001b[0;32m--> 123\u001b[0;31m         \u001b[0melems\u001b[0m \u001b[0;34m=\u001b[0m \u001b[0mnode\u001b[0m\u001b[0;34m.\u001b[0m\u001b[0mxpath\u001b[0m\u001b[0;34m(\u001b[0m\u001b[0mselector\u001b[0m\u001b[0;34m,\u001b[0m \u001b[0mnamespaces\u001b[0m\u001b[0;34m=\u001b[0m\u001b[0mNS\u001b[0m\u001b[0;34m)\u001b[0m\u001b[0;34m\u001b[0m\u001b[0;34m\u001b[0m\u001b[0m\n\u001b[0m\u001b[1;32m    124\u001b[0m         \u001b[0;31m# remove the root node\u001b[0m\u001b[0;34m\u001b[0m\u001b[0;34m\u001b[0m\u001b[0;34m\u001b[0m\u001b[0m\n\u001b[1;32m    125\u001b[0m         \u001b[0;31m# if we have a selection tag\u001b[0m\u001b[0;34m\u001b[0m\u001b[0;34m\u001b[0m\u001b[0;34m\u001b[0m\u001b[0m\n",
            "\u001b[0;31mAttributeError\u001b[0m: 'NoneType' object has no attribute 'xpath'"
          ]
        }
      ]
    }
  ]
}